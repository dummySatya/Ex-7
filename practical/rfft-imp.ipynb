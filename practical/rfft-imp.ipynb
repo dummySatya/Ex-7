{
 "cells": [
  {
   "cell_type": "code",
   "execution_count": 2,
   "metadata": {},
   "outputs": [],
   "source": [
    "import torch\n",
    "import torch.nn as nn\n",
    "from rfft_lib import rfft_audio\n",
    "import onnx\n",
    "import math"
   ]
  },
  {
   "cell_type": "code",
   "execution_count": 3,
   "metadata": {},
   "outputs": [],
   "source": [
    "audio_path = \"/home/satya-tt0492/Documents/TT/ex-7/audio/sax.wav\""
   ]
  },
  {
   "cell_type": "code",
   "execution_count": 4,
   "metadata": {},
   "outputs": [
    {
     "name": "stdout",
     "output_type": "stream",
     "text": [
      "tensor([ 0.0053,  0.0062,  0.0075,  ..., -0.0001, -0.0001, -0.0002])\n"
     ]
    }
   ],
   "source": [
    "audio = rfft_audio.load_audio(audio_path)\n",
    "print(audio)"
   ]
  },
  {
   "cell_type": "code",
   "execution_count": 5,
   "metadata": {},
   "outputs": [
    {
     "data": {
      "text/plain": [
       "torch.Size([57618])"
      ]
     },
     "execution_count": 5,
     "metadata": {},
     "output_type": "execute_result"
    }
   ],
   "source": [
    "audio.shape"
   ]
  },
  {
   "cell_type": "code",
   "execution_count": 6,
   "metadata": {},
   "outputs": [
    {
     "data": {
      "text/plain": [
       "tensor([0.7049, 0.1233, 0.7220, 0.5830, 0.1711, 0.6032, 0.9263, 0.7348, 0.7738,\n",
       "        0.8988, 0.4135, 0.4347, 0.2317, 0.4669, 0.3767, 0.1061])"
      ]
     },
     "execution_count": 6,
     "metadata": {},
     "output_type": "execute_result"
    }
   ],
   "source": [
    "temp_input = torch.rand(16)\n",
    "temp_input"
   ]
  },
  {
   "cell_type": "code",
   "execution_count": 7,
   "metadata": {},
   "outputs": [
    {
     "data": {
      "text/plain": [
       "tensor([8.2707, 1.7070, 0.9202, 0.6153, 0.6040, 1.1199, 1.2618, 1.1066, 0.3693])"
      ]
     },
     "execution_count": 7,
     "metadata": {},
     "output_type": "execute_result"
    }
   ],
   "source": [
    "rfft_audio.apply_rfft(temp_input)"
   ]
  },
  {
   "cell_type": "code",
   "execution_count": 8,
   "metadata": {},
   "outputs": [],
   "source": [
    "def fft(samples):\n",
    "    N = len(samples)\n",
    "\n",
    "    if N == 1:\n",
    "        return samples\n",
    "    \n",
    "    M = N // 2\n",
    "\n",
    "    Xeven = [0. for i in range(M)]\n",
    "    Xodd = [0. for i in range(M)]\n",
    "\n",
    "    for i in range(M):\n",
    "        Xeven[i] = samples[2 * i]\n",
    "        Xodd[i] = samples[2 * i + 1]\n",
    "    \n",
    "    Feven = [0. for i in range(M)]\n",
    "    Feven = fft(Xeven)\n",
    "\n",
    "    Fodd = [0. for i in range(M)]\n",
    "    Fodd = fft(Xodd)\n",
    "\n",
    "    freqbin = [0. for i in range(N)]\n",
    "\n",
    "    for k in range(N // 2):\n",
    "        cmplx = complex(1,-2 * math.pi * k / N) * Fodd[k]\n",
    "\n",
    "        freqbin[k] = Feven[k] + cmplx\n",
    "        freqbin[k + N // 2] = Feven[k] - cmplx\n",
    "\n",
    "    return abs(torch.tensor(freqbin))"
   ]
  },
  {
   "cell_type": "code",
   "execution_count": 9,
   "metadata": {},
   "outputs": [],
   "source": [
    "ans = fft(temp_input)"
   ]
  },
  {
   "cell_type": "code",
   "execution_count": 10,
   "metadata": {},
   "outputs": [
    {
     "data": {
      "text/plain": [
       "tensor([8.2707, 1.7070, 0.9202, 0.6153, 0.6040, 1.1199, 1.2618, 1.1066, 0.3693,\n",
       "        1.1066, 1.2618, 1.1199, 0.6040, 0.6153, 0.9202, 1.7070])"
      ]
     },
     "execution_count": 10,
     "metadata": {},
     "output_type": "execute_result"
    }
   ],
   "source": [
    "abs(torch.fft.fft(temp_input))"
   ]
  },
  {
   "cell_type": "code",
   "execution_count": 11,
   "metadata": {},
   "outputs": [
    {
     "name": "stderr",
     "output_type": "stream",
     "text": [
      "/tmp/ipykernel_235996/2932582670.py:1: UserWarning: To copy construct from a tensor, it is recommended to use sourceTensor.clone().detach() or sourceTensor.clone().detach().requires_grad_(True), rather than torch.tensor(sourceTensor).\n",
      "  abs(torch.tensor(ans))\n"
     ]
    },
    {
     "data": {
      "text/plain": [
       "tensor([8.2707, 4.1898, 1.6523, 6.6004, 0.8716, 3.1958, 1.4449, 8.7046, 0.3693,\n",
       "        1.1924, 0.9558, 3.7811, 0.4891, 2.0737, 0.9641, 7.2168])"
      ]
     },
     "execution_count": 11,
     "metadata": {},
     "output_type": "execute_result"
    }
   ],
   "source": [
    "abs(torch.tensor(ans))"
   ]
  },
  {
   "cell_type": "code",
   "execution_count": 12,
   "metadata": {},
   "outputs": [
    {
     "data": {
      "text/plain": [
       "16"
      ]
     },
     "execution_count": 12,
     "metadata": {},
     "output_type": "execute_result"
    }
   ],
   "source": [
    "temp_input.shape[0]"
   ]
  },
  {
   "cell_type": "code",
   "execution_count": 23,
   "metadata": {},
   "outputs": [],
   "source": []
  },
  {
   "cell_type": "code",
   "execution_count": 13,
   "metadata": {},
   "outputs": [],
   "source": [
    "def fft(samples):\n",
    "    samples = torch.tensor(samples)\n",
    "\n",
    "    N = samples.shape[0]\n",
    "\n",
    "    if N == 1:\n",
    "        return samples\n",
    "    \n",
    "    M = N // 2\n",
    "\n",
    "    Xeven = torch.zeros(M)\n",
    "    Xodd = torch.zeros(M)\n",
    "\n",
    "    for i in range(M):\n",
    "        Xeven[i] = samples[2 * i]\n",
    "        Xodd[i] = samples[2 * i + 1]\n",
    "    \n",
    "    Feven = torch.zeros(M)\n",
    "    Feven = fft(Xeven)\n",
    "\n",
    "    Fodd = torch.zeros(M)\n",
    "    Fodd = fft(Xodd)\n",
    "\n",
    "    freqbin = torch.zeros(N)\n",
    "\n",
    "    for k in range(N // 2):\n",
    "        cmplx = complex(1,-2 * math.pi * k / N) * Fodd[k]\n",
    "\n",
    "        freqbin[k] = Feven[k] + cmplx\n",
    "        freqbin[k + N // 2] = Feven[k] - cmplx\n",
    "\n",
    "    return abs(freqbin)"
   ]
  },
  {
   "cell_type": "code",
   "execution_count": 14,
   "metadata": {},
   "outputs": [],
   "source": [
    "temp_input = torch.rand(1024*1024*256)"
   ]
  },
  {
   "cell_type": "code",
   "execution_count": 15,
   "metadata": {},
   "outputs": [],
   "source": [
    "x = abs(torch.fft.fft(temp_input))"
   ]
  },
  {
   "cell_type": "code",
   "execution_count": 16,
   "metadata": {},
   "outputs": [
    {
     "name": "stderr",
     "output_type": "stream",
     "text": [
      "/tmp/ipykernel_235996/1756566828.py:2: UserWarning: To copy construct from a tensor, it is recommended to use sourceTensor.clone().detach() or sourceTensor.clone().detach().requires_grad_(True), rather than torch.tensor(sourceTensor).\n",
      "  samples = torch.tensor(samples)\n",
      "/tmp/ipykernel_235996/1756566828.py:29: UserWarning: Casting complex values to real discards the imaginary part (Triggered internally at /opt/conda/conda-bld/pytorch_1724788959732/work/aten/src/ATen/native/Copy.cpp:305.)\n",
      "  freqbin[k] = Feven[k] + cmplx\n"
     ]
    },
    {
     "ename": "KeyboardInterrupt",
     "evalue": "",
     "output_type": "error",
     "traceback": [
      "\u001b[0;31m---------------------------------------------------------------------------\u001b[0m",
      "\u001b[0;31mKeyboardInterrupt\u001b[0m                         Traceback (most recent call last)",
      "Cell \u001b[0;32mIn[16], line 1\u001b[0m\n\u001b[0;32m----> 1\u001b[0m y \u001b[38;5;241m=\u001b[39m \u001b[43mfft\u001b[49m\u001b[43m(\u001b[49m\u001b[43mtemp_input\u001b[49m\u001b[43m)\u001b[49m\n",
      "Cell \u001b[0;32mIn[13], line 19\u001b[0m, in \u001b[0;36mfft\u001b[0;34m(samples)\u001b[0m\n\u001b[1;32m     16\u001b[0m     Xodd[i] \u001b[38;5;241m=\u001b[39m samples[\u001b[38;5;241m2\u001b[39m \u001b[38;5;241m*\u001b[39m i \u001b[38;5;241m+\u001b[39m \u001b[38;5;241m1\u001b[39m]\n\u001b[1;32m     18\u001b[0m Feven \u001b[38;5;241m=\u001b[39m torch\u001b[38;5;241m.\u001b[39mzeros(M)\n\u001b[0;32m---> 19\u001b[0m Feven \u001b[38;5;241m=\u001b[39m \u001b[43mfft\u001b[49m\u001b[43m(\u001b[49m\u001b[43mXeven\u001b[49m\u001b[43m)\u001b[49m\n\u001b[1;32m     21\u001b[0m Fodd \u001b[38;5;241m=\u001b[39m torch\u001b[38;5;241m.\u001b[39mzeros(M)\n\u001b[1;32m     22\u001b[0m Fodd \u001b[38;5;241m=\u001b[39m fft(Xodd)\n",
      "Cell \u001b[0;32mIn[13], line 19\u001b[0m, in \u001b[0;36mfft\u001b[0;34m(samples)\u001b[0m\n\u001b[1;32m     16\u001b[0m     Xodd[i] \u001b[38;5;241m=\u001b[39m samples[\u001b[38;5;241m2\u001b[39m \u001b[38;5;241m*\u001b[39m i \u001b[38;5;241m+\u001b[39m \u001b[38;5;241m1\u001b[39m]\n\u001b[1;32m     18\u001b[0m Feven \u001b[38;5;241m=\u001b[39m torch\u001b[38;5;241m.\u001b[39mzeros(M)\n\u001b[0;32m---> 19\u001b[0m Feven \u001b[38;5;241m=\u001b[39m \u001b[43mfft\u001b[49m\u001b[43m(\u001b[49m\u001b[43mXeven\u001b[49m\u001b[43m)\u001b[49m\n\u001b[1;32m     21\u001b[0m Fodd \u001b[38;5;241m=\u001b[39m torch\u001b[38;5;241m.\u001b[39mzeros(M)\n\u001b[1;32m     22\u001b[0m Fodd \u001b[38;5;241m=\u001b[39m fft(Xodd)\n",
      "    \u001b[0;31m[... skipping similar frames: fft at line 19 (4 times)]\u001b[0m\n",
      "Cell \u001b[0;32mIn[13], line 22\u001b[0m, in \u001b[0;36mfft\u001b[0;34m(samples)\u001b[0m\n\u001b[1;32m     19\u001b[0m Feven \u001b[38;5;241m=\u001b[39m fft(Xeven)\n\u001b[1;32m     21\u001b[0m Fodd \u001b[38;5;241m=\u001b[39m torch\u001b[38;5;241m.\u001b[39mzeros(M)\n\u001b[0;32m---> 22\u001b[0m Fodd \u001b[38;5;241m=\u001b[39m \u001b[43mfft\u001b[49m\u001b[43m(\u001b[49m\u001b[43mXodd\u001b[49m\u001b[43m)\u001b[49m\n\u001b[1;32m     24\u001b[0m freqbin \u001b[38;5;241m=\u001b[39m torch\u001b[38;5;241m.\u001b[39mzeros(N)\n\u001b[1;32m     26\u001b[0m \u001b[38;5;28;01mfor\u001b[39;00m k \u001b[38;5;129;01min\u001b[39;00m \u001b[38;5;28mrange\u001b[39m(N \u001b[38;5;241m/\u001b[39m\u001b[38;5;241m/\u001b[39m \u001b[38;5;241m2\u001b[39m):\n",
      "Cell \u001b[0;32mIn[13], line 22\u001b[0m, in \u001b[0;36mfft\u001b[0;34m(samples)\u001b[0m\n\u001b[1;32m     19\u001b[0m Feven \u001b[38;5;241m=\u001b[39m fft(Xeven)\n\u001b[1;32m     21\u001b[0m Fodd \u001b[38;5;241m=\u001b[39m torch\u001b[38;5;241m.\u001b[39mzeros(M)\n\u001b[0;32m---> 22\u001b[0m Fodd \u001b[38;5;241m=\u001b[39m \u001b[43mfft\u001b[49m\u001b[43m(\u001b[49m\u001b[43mXodd\u001b[49m\u001b[43m)\u001b[49m\n\u001b[1;32m     24\u001b[0m freqbin \u001b[38;5;241m=\u001b[39m torch\u001b[38;5;241m.\u001b[39mzeros(N)\n\u001b[1;32m     26\u001b[0m \u001b[38;5;28;01mfor\u001b[39;00m k \u001b[38;5;129;01min\u001b[39;00m \u001b[38;5;28mrange\u001b[39m(N \u001b[38;5;241m/\u001b[39m\u001b[38;5;241m/\u001b[39m \u001b[38;5;241m2\u001b[39m):\n",
      "    \u001b[0;31m[... skipping similar frames: fft at line 22 (9 times), fft at line 19 (7 times)]\u001b[0m\n",
      "Cell \u001b[0;32mIn[13], line 22\u001b[0m, in \u001b[0;36mfft\u001b[0;34m(samples)\u001b[0m\n\u001b[1;32m     19\u001b[0m Feven \u001b[38;5;241m=\u001b[39m fft(Xeven)\n\u001b[1;32m     21\u001b[0m Fodd \u001b[38;5;241m=\u001b[39m torch\u001b[38;5;241m.\u001b[39mzeros(M)\n\u001b[0;32m---> 22\u001b[0m Fodd \u001b[38;5;241m=\u001b[39m \u001b[43mfft\u001b[49m\u001b[43m(\u001b[49m\u001b[43mXodd\u001b[49m\u001b[43m)\u001b[49m\n\u001b[1;32m     24\u001b[0m freqbin \u001b[38;5;241m=\u001b[39m torch\u001b[38;5;241m.\u001b[39mzeros(N)\n\u001b[1;32m     26\u001b[0m \u001b[38;5;28;01mfor\u001b[39;00m k \u001b[38;5;129;01min\u001b[39;00m \u001b[38;5;28mrange\u001b[39m(N \u001b[38;5;241m/\u001b[39m\u001b[38;5;241m/\u001b[39m \u001b[38;5;241m2\u001b[39m):\n",
      "Cell \u001b[0;32mIn[13], line 19\u001b[0m, in \u001b[0;36mfft\u001b[0;34m(samples)\u001b[0m\n\u001b[1;32m     16\u001b[0m     Xodd[i] \u001b[38;5;241m=\u001b[39m samples[\u001b[38;5;241m2\u001b[39m \u001b[38;5;241m*\u001b[39m i \u001b[38;5;241m+\u001b[39m \u001b[38;5;241m1\u001b[39m]\n\u001b[1;32m     18\u001b[0m Feven \u001b[38;5;241m=\u001b[39m torch\u001b[38;5;241m.\u001b[39mzeros(M)\n\u001b[0;32m---> 19\u001b[0m Feven \u001b[38;5;241m=\u001b[39m \u001b[43mfft\u001b[49m\u001b[43m(\u001b[49m\u001b[43mXeven\u001b[49m\u001b[43m)\u001b[49m\n\u001b[1;32m     21\u001b[0m Fodd \u001b[38;5;241m=\u001b[39m torch\u001b[38;5;241m.\u001b[39mzeros(M)\n\u001b[1;32m     22\u001b[0m Fodd \u001b[38;5;241m=\u001b[39m fft(Xodd)\n",
      "Cell \u001b[0;32mIn[13], line 29\u001b[0m, in \u001b[0;36mfft\u001b[0;34m(samples)\u001b[0m\n\u001b[1;32m     26\u001b[0m \u001b[38;5;28;01mfor\u001b[39;00m k \u001b[38;5;129;01min\u001b[39;00m \u001b[38;5;28mrange\u001b[39m(N \u001b[38;5;241m/\u001b[39m\u001b[38;5;241m/\u001b[39m \u001b[38;5;241m2\u001b[39m):\n\u001b[1;32m     27\u001b[0m     cmplx \u001b[38;5;241m=\u001b[39m \u001b[38;5;28mcomplex\u001b[39m(\u001b[38;5;241m1\u001b[39m,\u001b[38;5;241m-\u001b[39m\u001b[38;5;241m2\u001b[39m \u001b[38;5;241m*\u001b[39m math\u001b[38;5;241m.\u001b[39mpi \u001b[38;5;241m*\u001b[39m k \u001b[38;5;241m/\u001b[39m N) \u001b[38;5;241m*\u001b[39m Fodd[k]\n\u001b[0;32m---> 29\u001b[0m     freqbin[k] \u001b[38;5;241m=\u001b[39m \u001b[43mFeven\u001b[49m\u001b[43m[\u001b[49m\u001b[43mk\u001b[49m\u001b[43m]\u001b[49m \u001b[38;5;241m+\u001b[39m cmplx\n\u001b[1;32m     30\u001b[0m     freqbin[k \u001b[38;5;241m+\u001b[39m N \u001b[38;5;241m/\u001b[39m\u001b[38;5;241m/\u001b[39m \u001b[38;5;241m2\u001b[39m] \u001b[38;5;241m=\u001b[39m Feven[k] \u001b[38;5;241m-\u001b[39m cmplx\n\u001b[1;32m     32\u001b[0m \u001b[38;5;28;01mreturn\u001b[39;00m \u001b[38;5;28mabs\u001b[39m(freqbin)\n",
      "\u001b[0;31mKeyboardInterrupt\u001b[0m: "
     ]
    }
   ],
   "source": [
    "y = fft(temp_input)"
   ]
  },
  {
   "cell_type": "code",
   "execution_count": 29,
   "metadata": {},
   "outputs": [
    {
     "data": {
      "text/plain": [
       "tensor(7.1705)"
      ]
     },
     "execution_count": 29,
     "metadata": {},
     "output_type": "execute_result"
    }
   ],
   "source": [
    "torch.mean(abs(x-y))"
   ]
  },
  {
   "cell_type": "code",
   "execution_count": null,
   "metadata": {},
   "outputs": [],
   "source": []
  }
 ],
 "metadata": {
  "kernelspec": {
   "display_name": "ex5",
   "language": "python",
   "name": "python3"
  },
  "language_info": {
   "codemirror_mode": {
    "name": "ipython",
    "version": 3
   },
   "file_extension": ".py",
   "mimetype": "text/x-python",
   "name": "python",
   "nbconvert_exporter": "python",
   "pygments_lexer": "ipython3",
   "version": "3.9.19"
  }
 },
 "nbformat": 4,
 "nbformat_minor": 2
}
