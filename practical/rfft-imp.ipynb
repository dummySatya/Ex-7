{
 "cells": [
  {
   "cell_type": "code",
   "execution_count": 1,
   "metadata": {},
   "outputs": [],
   "source": [
    "import torch\n",
    "import torch.nn as nn\n",
    "from rfft_lib import rfft_audio\n",
    "import onnx\n",
    "import math"
   ]
  },
  {
   "cell_type": "code",
   "execution_count": 2,
   "metadata": {},
   "outputs": [],
   "source": [
    "audio_path = \"/home/satya-tt0492/Documents/TT/ex-7/audio/sax.wav\""
   ]
  },
  {
   "cell_type": "code",
   "execution_count": 19,
   "metadata": {},
   "outputs": [
    {
     "name": "stdout",
     "output_type": "stream",
     "text": [
      "tensor([ 0.0053,  0.0062,  0.0075,  ..., -0.0001, -0.0001, -0.0002])\n"
     ]
    }
   ],
   "source": [
    "audio = rfft_audio.load_audio(audio_path)\n",
    "print(audio)"
   ]
  },
  {
   "cell_type": "code",
   "execution_count": 20,
   "metadata": {},
   "outputs": [
    {
     "data": {
      "text/plain": [
       "torch.Size([57618])"
      ]
     },
     "execution_count": 20,
     "metadata": {},
     "output_type": "execute_result"
    }
   ],
   "source": [
    "audio.shape"
   ]
  },
  {
   "cell_type": "code",
   "execution_count": 21,
   "metadata": {},
   "outputs": [
    {
     "data": {
      "text/plain": [
       "tensor([0.6683, 0.4344, 0.3136, 0.0229, 0.7162, 0.8960, 0.8064, 0.6667, 0.1974,\n",
       "        0.3597, 0.2674, 0.8992, 0.7366, 0.9646, 0.9806, 0.9079])"
      ]
     },
     "execution_count": 21,
     "metadata": {},
     "output_type": "execute_result"
    }
   ],
   "source": [
    "temp_input = torch.rand(16)\n",
    "temp_input"
   ]
  },
  {
   "cell_type": "code",
   "execution_count": 7,
   "metadata": {},
   "outputs": [
    {
     "data": {
      "text/plain": [
       "tensor([8.2707, 1.7070, 0.9202, 0.6153, 0.6040, 1.1199, 1.2618, 1.1066, 0.3693])"
      ]
     },
     "execution_count": 7,
     "metadata": {},
     "output_type": "execute_result"
    }
   ],
   "source": [
    "rfft_audio.apply_rfft(temp_input)"
   ]
  },
  {
   "cell_type": "code",
   "execution_count": 8,
   "metadata": {},
   "outputs": [],
   "source": [
    "def fft(samples):\n",
    "    N = len(samples)\n",
    "\n",
    "    if N == 1:\n",
    "        return samples\n",
    "    \n",
    "    M = N // 2\n",
    "\n",
    "    Xeven = [0. for i in range(M)]\n",
    "    Xodd = [0. for i in range(M)]\n",
    "\n",
    "    for i in range(M):\n",
    "        Xeven[i] = samples[2 * i]\n",
    "        Xodd[i] = samples[2 * i + 1]\n",
    "    \n",
    "    Feven = [0. for i in range(M)]\n",
    "    Feven = fft(Xeven)\n",
    "\n",
    "    Fodd = [0. for i in range(M)]\n",
    "    Fodd = fft(Xodd)\n",
    "\n",
    "    freqbin = [0. for i in range(N)]\n",
    "\n",
    "    for k in range(N // 2):\n",
    "        cmplx = complex(1,-2 * math.pi * k / N) * Fodd[k]\n",
    "\n",
    "        freqbin[k] = Feven[k] + cmplx\n",
    "        freqbin[k + N // 2] = Feven[k] - cmplx\n",
    "\n",
    "    return abs(torch.tensor(freqbin))"
   ]
  },
  {
   "cell_type": "code",
   "execution_count": 9,
   "metadata": {},
   "outputs": [],
   "source": [
    "ans = fft(temp_input)"
   ]
  },
  {
   "cell_type": "code",
   "execution_count": 10,
   "metadata": {},
   "outputs": [
    {
     "data": {
      "text/plain": [
       "tensor([8.2707, 1.7070, 0.9202, 0.6153, 0.6040, 1.1199, 1.2618, 1.1066, 0.3693,\n",
       "        1.1066, 1.2618, 1.1199, 0.6040, 0.6153, 0.9202, 1.7070])"
      ]
     },
     "execution_count": 10,
     "metadata": {},
     "output_type": "execute_result"
    }
   ],
   "source": [
    "abs(torch.fft.fft(temp_input))"
   ]
  },
  {
   "cell_type": "code",
   "execution_count": 11,
   "metadata": {},
   "outputs": [
    {
     "name": "stderr",
     "output_type": "stream",
     "text": [
      "/tmp/ipykernel_235996/2932582670.py:1: UserWarning: To copy construct from a tensor, it is recommended to use sourceTensor.clone().detach() or sourceTensor.clone().detach().requires_grad_(True), rather than torch.tensor(sourceTensor).\n",
      "  abs(torch.tensor(ans))\n"
     ]
    },
    {
     "data": {
      "text/plain": [
       "tensor([8.2707, 4.1898, 1.6523, 6.6004, 0.8716, 3.1958, 1.4449, 8.7046, 0.3693,\n",
       "        1.1924, 0.9558, 3.7811, 0.4891, 2.0737, 0.9641, 7.2168])"
      ]
     },
     "execution_count": 11,
     "metadata": {},
     "output_type": "execute_result"
    }
   ],
   "source": [
    "abs(torch.tensor(ans))"
   ]
  },
  {
   "cell_type": "code",
   "execution_count": 12,
   "metadata": {},
   "outputs": [
    {
     "data": {
      "text/plain": [
       "16"
      ]
     },
     "execution_count": 12,
     "metadata": {},
     "output_type": "execute_result"
    }
   ],
   "source": [
    "temp_input.shape[0]"
   ]
  },
  {
   "cell_type": "code",
   "execution_count": 23,
   "metadata": {},
   "outputs": [],
   "source": []
  },
  {
   "cell_type": "code",
   "execution_count": 11,
   "metadata": {},
   "outputs": [],
   "source": [
    "import torch\n",
    "import math\n",
    "\n",
    "def next_power_of_2_calc(n):\n",
    "    if n <= 1:\n",
    "        return 1\n",
    "    return 2 ** (math.ceil(math.log2(n)))\n",
    "\n",
    "def fft(samples:torch.Tensor):\n",
    "\n",
    "    N = samples.shape[0]\n",
    "    if (N & (N - 1)) != 0:\n",
    "        next_power_of_2 = next_power_of_2_calc(N)  # Compute the next power of 2\n",
    "        padding_size = next_power_of_2 - N\n",
    "        samples = torch.cat([samples, torch.zeros(padding_size)])\n",
    "        N = next_power_of_2\n",
    "    \n",
    "    if N == 1:\n",
    "        return samples\n",
    "    \n",
    "    even_samples = samples[::2]\n",
    "    odd_samples = samples[1::2]\n",
    "    \n",
    "    Feven = fft(even_samples)\n",
    "    Fodd = fft(odd_samples)\n",
    "    \n",
    "    omega = torch.exp(-2j * math.pi * torch.arange(N // 2) / N) \n",
    "    combined = torch.zeros(N, dtype=torch.complex64)\n",
    "    \n",
    "    combined[:N//2] = Feven + omega * Fodd\n",
    "    combined[N//2:] = Feven - omega * Fodd\n",
    "\n",
    "    return combined\n"
   ]
  },
  {
   "cell_type": "code",
   "execution_count": 15,
   "metadata": {},
   "outputs": [
    {
     "name": "stderr",
     "output_type": "stream",
     "text": [
      "/tmp/ipykernel_242397/1300399318.py:36: UserWarning: Casting complex values to real discards the imaginary part (Triggered internally at /opt/conda/conda-bld/pytorch_1724788959732/work/aten/src/ATen/native/Copy.cpp:305.)\n",
      "  combined_real[:N//2] = Feven_real + omega_real * Fodd_real - omega_imag * Fodd_imag\n"
     ]
    }
   ],
   "source": [
    "import torch\n",
    "import math\n",
    "\n",
    "def next_power_of_2_calc(n):\n",
    "    if n <= 1:\n",
    "        return 1\n",
    "    return 2 ** (math.ceil(math.log2(n)))\n",
    "\n",
    "def fft_real_imag(samples: torch.Tensor):\n",
    "    N = samples.shape[0]\n",
    "    \n",
    "    # Pad to the next power of 2 if necessary\n",
    "    if (N & (N - 1)) != 0:\n",
    "        next_power_of_2 = next_power_of_2_calc(N)\n",
    "        padding_size = next_power_of_2 - N\n",
    "        samples = torch.cat([samples, torch.zeros(padding_size)])\n",
    "        N = next_power_of_2\n",
    "    \n",
    "    if N == 1:\n",
    "        return samples, torch.zeros_like(samples)\n",
    "    \n",
    "    even_samples = samples[::2]\n",
    "    odd_samples = samples[1::2]\n",
    "    \n",
    "    Feven_real, Feven_imag = fft_real_imag(even_samples)\n",
    "    Fodd_real, Fodd_imag = fft_real_imag(odd_samples)\n",
    "    \n",
    "    angle = -2j * math.pi * torch.arange(N // 2) / N\n",
    "    omega_real = torch.cos(angle)\n",
    "    omega_imag = torch.sin(angle)\n",
    "    \n",
    "    # Combine the real and imaginary parts manually\n",
    "    combined_real = torch.zeros(N)\n",
    "    combined_imag = torch.zeros(N)\n",
    "    \n",
    "    combined_real[:N//2] = Feven_real + omega_real * Fodd_real - omega_imag * Fodd_imag\n",
    "    combined_imag[:N//2] = Feven_imag + omega_real * Fodd_imag + omega_imag * Fodd_real\n",
    "    \n",
    "    combined_real[N//2:] = Feven_real - omega_real * Fodd_real + omega_imag * Fodd_imag\n",
    "    combined_imag[N//2:] = Feven_imag - omega_real * Fodd_imag - omega_imag * Fodd_real\n",
    "    \n",
    "    return combined_real, combined_imag\n",
    "\n",
    "# Example usage with ONNX exportable output\n",
    "samples = torch.randn(1024)\n",
    "real_part, imag_part = fft_real_imag(samples)\n"
   ]
  },
  {
   "cell_type": "code",
   "execution_count": 12,
   "metadata": {},
   "outputs": [],
   "source": [
    "temp_input = torch.rand(1024*1024*256)"
   ]
  },
  {
   "cell_type": "code",
   "execution_count": 13,
   "metadata": {},
   "outputs": [],
   "source": [
    "x = abs(torch.fft.fft(temp_input))"
   ]
  },
  {
   "cell_type": "code",
   "execution_count": 14,
   "metadata": {},
   "outputs": [
    {
     "ename": "KeyboardInterrupt",
     "evalue": "",
     "output_type": "error",
     "traceback": [
      "\u001b[0;31m---------------------------------------------------------------------------\u001b[0m",
      "\u001b[0;31mKeyboardInterrupt\u001b[0m                         Traceback (most recent call last)",
      "Cell \u001b[0;32mIn[14], line 1\u001b[0m\n\u001b[0;32m----> 1\u001b[0m y \u001b[38;5;241m=\u001b[39m \u001b[43mfft\u001b[49m\u001b[43m(\u001b[49m\u001b[43mtemp_input\u001b[49m\u001b[43m)\u001b[49m\n",
      "Cell \u001b[0;32mIn[11], line 18\u001b[0m, in \u001b[0;36mfft\u001b[0;34m(samples)\u001b[0m\n\u001b[1;32m     15\u001b[0m odd_samples \u001b[38;5;241m=\u001b[39m samples[\u001b[38;5;241m1\u001b[39m::\u001b[38;5;241m2\u001b[39m]\n\u001b[1;32m     17\u001b[0m \u001b[38;5;66;03m# Compute FFT of even and odd parts recursively\u001b[39;00m\n\u001b[0;32m---> 18\u001b[0m Feven \u001b[38;5;241m=\u001b[39m \u001b[43mfft\u001b[49m\u001b[43m(\u001b[49m\u001b[43meven_samples\u001b[49m\u001b[43m)\u001b[49m\n\u001b[1;32m     19\u001b[0m Fodd \u001b[38;5;241m=\u001b[39m fft(odd_samples)\n\u001b[1;32m     21\u001b[0m \u001b[38;5;66;03m# Combine results\u001b[39;00m\n\u001b[1;32m     22\u001b[0m \u001b[38;5;66;03m# Use the torch.angle and complex multiplication for vectorization\u001b[39;00m\n",
      "Cell \u001b[0;32mIn[11], line 18\u001b[0m, in \u001b[0;36mfft\u001b[0;34m(samples)\u001b[0m\n\u001b[1;32m     15\u001b[0m odd_samples \u001b[38;5;241m=\u001b[39m samples[\u001b[38;5;241m1\u001b[39m::\u001b[38;5;241m2\u001b[39m]\n\u001b[1;32m     17\u001b[0m \u001b[38;5;66;03m# Compute FFT of even and odd parts recursively\u001b[39;00m\n\u001b[0;32m---> 18\u001b[0m Feven \u001b[38;5;241m=\u001b[39m \u001b[43mfft\u001b[49m\u001b[43m(\u001b[49m\u001b[43meven_samples\u001b[49m\u001b[43m)\u001b[49m\n\u001b[1;32m     19\u001b[0m Fodd \u001b[38;5;241m=\u001b[39m fft(odd_samples)\n\u001b[1;32m     21\u001b[0m \u001b[38;5;66;03m# Combine results\u001b[39;00m\n\u001b[1;32m     22\u001b[0m \u001b[38;5;66;03m# Use the torch.angle and complex multiplication for vectorization\u001b[39;00m\n",
      "    \u001b[0;31m[... skipping similar frames: fft at line 18 (1 times)]\u001b[0m\n",
      "Cell \u001b[0;32mIn[11], line 19\u001b[0m, in \u001b[0;36mfft\u001b[0;34m(samples)\u001b[0m\n\u001b[1;32m     17\u001b[0m \u001b[38;5;66;03m# Compute FFT of even and odd parts recursively\u001b[39;00m\n\u001b[1;32m     18\u001b[0m Feven \u001b[38;5;241m=\u001b[39m fft(even_samples)\n\u001b[0;32m---> 19\u001b[0m Fodd \u001b[38;5;241m=\u001b[39m \u001b[43mfft\u001b[49m\u001b[43m(\u001b[49m\u001b[43modd_samples\u001b[49m\u001b[43m)\u001b[49m\n\u001b[1;32m     21\u001b[0m \u001b[38;5;66;03m# Combine results\u001b[39;00m\n\u001b[1;32m     22\u001b[0m \u001b[38;5;66;03m# Use the torch.angle and complex multiplication for vectorization\u001b[39;00m\n\u001b[1;32m     23\u001b[0m omega \u001b[38;5;241m=\u001b[39m torch\u001b[38;5;241m.\u001b[39mexp(\u001b[38;5;241m-\u001b[39m\u001b[38;5;241m2\u001b[39mj \u001b[38;5;241m*\u001b[39m math\u001b[38;5;241m.\u001b[39mpi \u001b[38;5;241m*\u001b[39m torch\u001b[38;5;241m.\u001b[39marange(N \u001b[38;5;241m/\u001b[39m\u001b[38;5;241m/\u001b[39m \u001b[38;5;241m2\u001b[39m) \u001b[38;5;241m/\u001b[39m N)  \u001b[38;5;66;03m# Complex exponentials\u001b[39;00m\n",
      "    \u001b[0;31m[... skipping similar frames: fft at line 18 (4 times)]\u001b[0m\n",
      "Cell \u001b[0;32mIn[11], line 19\u001b[0m, in \u001b[0;36mfft\u001b[0;34m(samples)\u001b[0m\n\u001b[1;32m     17\u001b[0m \u001b[38;5;66;03m# Compute FFT of even and odd parts recursively\u001b[39;00m\n\u001b[1;32m     18\u001b[0m Feven \u001b[38;5;241m=\u001b[39m fft(even_samples)\n\u001b[0;32m---> 19\u001b[0m Fodd \u001b[38;5;241m=\u001b[39m \u001b[43mfft\u001b[49m\u001b[43m(\u001b[49m\u001b[43modd_samples\u001b[49m\u001b[43m)\u001b[49m\n\u001b[1;32m     21\u001b[0m \u001b[38;5;66;03m# Combine results\u001b[39;00m\n\u001b[1;32m     22\u001b[0m \u001b[38;5;66;03m# Use the torch.angle and complex multiplication for vectorization\u001b[39;00m\n\u001b[1;32m     23\u001b[0m omega \u001b[38;5;241m=\u001b[39m torch\u001b[38;5;241m.\u001b[39mexp(\u001b[38;5;241m-\u001b[39m\u001b[38;5;241m2\u001b[39mj \u001b[38;5;241m*\u001b[39m math\u001b[38;5;241m.\u001b[39mpi \u001b[38;5;241m*\u001b[39m torch\u001b[38;5;241m.\u001b[39marange(N \u001b[38;5;241m/\u001b[39m\u001b[38;5;241m/\u001b[39m \u001b[38;5;241m2\u001b[39m) \u001b[38;5;241m/\u001b[39m N)  \u001b[38;5;66;03m# Complex exponentials\u001b[39;00m\n",
      "    \u001b[0;31m[... skipping similar frames: fft at line 18 (12 times), fft at line 19 (4 times)]\u001b[0m\n",
      "Cell \u001b[0;32mIn[11], line 18\u001b[0m, in \u001b[0;36mfft\u001b[0;34m(samples)\u001b[0m\n\u001b[1;32m     15\u001b[0m odd_samples \u001b[38;5;241m=\u001b[39m samples[\u001b[38;5;241m1\u001b[39m::\u001b[38;5;241m2\u001b[39m]\n\u001b[1;32m     17\u001b[0m \u001b[38;5;66;03m# Compute FFT of even and odd parts recursively\u001b[39;00m\n\u001b[0;32m---> 18\u001b[0m Feven \u001b[38;5;241m=\u001b[39m \u001b[43mfft\u001b[49m\u001b[43m(\u001b[49m\u001b[43meven_samples\u001b[49m\u001b[43m)\u001b[49m\n\u001b[1;32m     19\u001b[0m Fodd \u001b[38;5;241m=\u001b[39m fft(odd_samples)\n\u001b[1;32m     21\u001b[0m \u001b[38;5;66;03m# Combine results\u001b[39;00m\n\u001b[1;32m     22\u001b[0m \u001b[38;5;66;03m# Use the torch.angle and complex multiplication for vectorization\u001b[39;00m\n",
      "Cell \u001b[0;32mIn[11], line 19\u001b[0m, in \u001b[0;36mfft\u001b[0;34m(samples)\u001b[0m\n\u001b[1;32m     17\u001b[0m \u001b[38;5;66;03m# Compute FFT of even and odd parts recursively\u001b[39;00m\n\u001b[1;32m     18\u001b[0m Feven \u001b[38;5;241m=\u001b[39m fft(even_samples)\n\u001b[0;32m---> 19\u001b[0m Fodd \u001b[38;5;241m=\u001b[39m \u001b[43mfft\u001b[49m\u001b[43m(\u001b[49m\u001b[43modd_samples\u001b[49m\u001b[43m)\u001b[49m\n\u001b[1;32m     21\u001b[0m \u001b[38;5;66;03m# Combine results\u001b[39;00m\n\u001b[1;32m     22\u001b[0m \u001b[38;5;66;03m# Use the torch.angle and complex multiplication for vectorization\u001b[39;00m\n\u001b[1;32m     23\u001b[0m omega \u001b[38;5;241m=\u001b[39m torch\u001b[38;5;241m.\u001b[39mexp(\u001b[38;5;241m-\u001b[39m\u001b[38;5;241m2\u001b[39mj \u001b[38;5;241m*\u001b[39m math\u001b[38;5;241m.\u001b[39mpi \u001b[38;5;241m*\u001b[39m torch\u001b[38;5;241m.\u001b[39marange(N \u001b[38;5;241m/\u001b[39m\u001b[38;5;241m/\u001b[39m \u001b[38;5;241m2\u001b[39m) \u001b[38;5;241m/\u001b[39m N)  \u001b[38;5;66;03m# Complex exponentials\u001b[39;00m\n",
      "Cell \u001b[0;32mIn[11], line 23\u001b[0m, in \u001b[0;36mfft\u001b[0;34m(samples)\u001b[0m\n\u001b[1;32m     19\u001b[0m Fodd \u001b[38;5;241m=\u001b[39m fft(odd_samples)\n\u001b[1;32m     21\u001b[0m \u001b[38;5;66;03m# Combine results\u001b[39;00m\n\u001b[1;32m     22\u001b[0m \u001b[38;5;66;03m# Use the torch.angle and complex multiplication for vectorization\u001b[39;00m\n\u001b[0;32m---> 23\u001b[0m omega \u001b[38;5;241m=\u001b[39m torch\u001b[38;5;241m.\u001b[39mexp(\u001b[38;5;241;43m-\u001b[39;49m\u001b[38;5;241;43m2\u001b[39;49m\u001b[43mj\u001b[49m\u001b[43m \u001b[49m\u001b[38;5;241;43m*\u001b[39;49m\u001b[43m \u001b[49m\u001b[43mmath\u001b[49m\u001b[38;5;241;43m.\u001b[39;49m\u001b[43mpi\u001b[49m\u001b[43m \u001b[49m\u001b[38;5;241;43m*\u001b[39;49m\u001b[43m \u001b[49m\u001b[43mtorch\u001b[49m\u001b[38;5;241;43m.\u001b[39;49m\u001b[43marange\u001b[49m\u001b[43m(\u001b[49m\u001b[43mN\u001b[49m\u001b[43m \u001b[49m\u001b[38;5;241;43m/\u001b[39;49m\u001b[38;5;241;43m/\u001b[39;49m\u001b[43m \u001b[49m\u001b[38;5;241;43m2\u001b[39;49m\u001b[43m)\u001b[49m \u001b[38;5;241m/\u001b[39m N)  \u001b[38;5;66;03m# Complex exponentials\u001b[39;00m\n\u001b[1;32m     24\u001b[0m combined \u001b[38;5;241m=\u001b[39m torch\u001b[38;5;241m.\u001b[39mzeros(N, dtype\u001b[38;5;241m=\u001b[39mtorch\u001b[38;5;241m.\u001b[39mcomplex64)\n\u001b[1;32m     26\u001b[0m combined[:N\u001b[38;5;241m/\u001b[39m\u001b[38;5;241m/\u001b[39m\u001b[38;5;241m2\u001b[39m] \u001b[38;5;241m=\u001b[39m Feven \u001b[38;5;241m+\u001b[39m omega \u001b[38;5;241m*\u001b[39m Fodd\n",
      "\u001b[0;31mKeyboardInterrupt\u001b[0m: "
     ]
    }
   ],
   "source": [
    "y = fft(temp_input)"
   ]
  },
  {
   "cell_type": "code",
   "execution_count": 29,
   "metadata": {},
   "outputs": [
    {
     "data": {
      "text/plain": [
       "tensor(7.1705)"
      ]
     },
     "execution_count": 29,
     "metadata": {},
     "output_type": "execute_result"
    }
   ],
   "source": [
    "torch.mean(abs(x-y))"
   ]
  },
  {
   "cell_type": "code",
   "execution_count": null,
   "metadata": {},
   "outputs": [],
   "source": []
  }
 ],
 "metadata": {
  "kernelspec": {
   "display_name": "ex5",
   "language": "python",
   "name": "python3"
  },
  "language_info": {
   "codemirror_mode": {
    "name": "ipython",
    "version": 3
   },
   "file_extension": ".py",
   "mimetype": "text/x-python",
   "name": "python",
   "nbconvert_exporter": "python",
   "pygments_lexer": "ipython3",
   "version": "3.9.19"
  }
 },
 "nbformat": 4,
 "nbformat_minor": 2
}
